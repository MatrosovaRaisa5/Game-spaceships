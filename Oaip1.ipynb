{
 "cells": [
  {
   "cell_type": "code",
   "execution_count": null,
   "metadata": {
    "dotnet_interactive": {
     "language": "csharp"
    },
    "polyglot_notebook": {
     "kernelName": "csharp"
    },
    "vscode": {
     "languageId": "polyglot-notebook"
    }
   },
   "outputs": [],
   "source": [
    "public interface IMove \n",
    "{\n",
    "    int Move(float x, float y);\n",
    "    int Turn(float x, float y);\n",
    "}"
   ]
  },
  {
   "cell_type": "code",
   "execution_count": null,
   "metadata": {
    "vscode": {
     "languageId": "polyglot-notebook"
    }
   },
   "outputs": [],
   "source": [
    "public class Ship : IMove\n",
    "{\n",
    "    public string Name { get; set; }\n",
    "    public float X { get; set; }\n",
    "    public float Y { get; set; }\n",
    "    //public float DX { get; set; }\n",
    "    //public float DY { get; set; }\n",
    "\n",
    "    public Ship(string name, float x, float y) \n",
    "    {\n",
    "        if(string.IsNullOrWhiteSpace(name)) throw new ArgumentNullException(nameof(name));\n",
    "        if(x<0) throw new ArgumentException(nameof(x));\n",
    "        if(y<0) throw new ArgumentException(nameof(y));\n",
    "\n",
    "        Name = name;\n",
    "        X = x;\n",
    "        Y = y;\n",
    "    }\n",
    "\n",
    "    public int Move(float x, float y) {\n",
    "        //реализация метода\n",
    "        return 0; //что-то возвращаемое для первого метода\n",
    "    }\n",
    "    public int Turn(float x, float y) {\n",
    "        //реализация метода через т Шаля\n",
    "        return 0; //что-то возвращаемое для второго метода\n",
    "    }\n",
    "\n",
    "\n",
    "}"
   ]
  }
 ],
 "metadata": {
  "language_info": {
   "name": "python"
  },
  "orig_nbformat": 4
 },
 "nbformat": 4,
 "nbformat_minor": 2
}
